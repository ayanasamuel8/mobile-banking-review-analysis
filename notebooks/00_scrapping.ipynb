{
 "cells": [
  {
   "cell_type": "code",
   "execution_count": 28,
   "id": "8238347f",
   "metadata": {},
   "outputs": [
    {
     "name": "stdout",
     "output_type": "stream",
     "text": [
      "Requirement already satisfied: google-play-scraper in c:\\users\\admin\\documents\\data science\\mobile-banking-review-analysis\\.venv\\lib\\site-packages (1.2.7)\n",
      "Note: you may need to restart the kernel to use updated packages.\n"
     ]
    }
   ],
   "source": [
    "pip install google-play-scraper"
   ]
  },
  {
   "cell_type": "code",
   "execution_count": 31,
   "id": "1e5d1067",
   "metadata": {},
   "outputs": [],
   "source": [
    "import sys\n",
    "import os\n",
    "\n",
    "sys.path.append(os.path.abspath(\"../src\"))\n"
   ]
  },
  {
   "cell_type": "code",
   "execution_count": 33,
   "id": "5350acd8",
   "metadata": {},
   "outputs": [
    {
     "name": "stdout",
     "output_type": "stream",
     "text": [
      "Columns: ['review', 'rating', 'date', 'bank', 'source']\n",
      "                                            review  rating        date bank  \\\n",
      "0                      what is this app problem???       1  2025-06-05  CBE   \n",
      "1     the app is proactive and a good connections.       5  2025-06-05  CBE   \n",
      "2  I cannot send to cbebirr app. through this app.       3  2025-06-05  CBE   \n",
      "3                                             good       4  2025-06-05  CBE   \n",
      "4                                   not functional       1  2025-06-05  CBE   \n",
      "\n",
      "        source  \n",
      "0  Google Play  \n",
      "1  Google Play  \n",
      "2  Google Play  \n",
      "3  Google Play  \n",
      "4  Google Play  \n"
     ]
    },
    {
     "name": "stderr",
     "output_type": "stream",
     "text": [
      "c:\\Users\\Admin\\Documents\\Data Science\\mobile-banking-review-analysis\\data-analysis-project\\src\\task_1\\preprocess.py:5: SettingWithCopyWarning: \n",
      "A value is trying to be set on a copy of a slice from a DataFrame.\n",
      "Try using .loc[row_indexer,col_indexer] = value instead\n",
      "\n",
      "See the caveats in the documentation: https://pandas.pydata.org/pandas-docs/stable/user_guide/indexing.html#returning-a-view-versus-a-copy\n",
      "  df['date'] = pd.to_datetime(df['date']).dt.strftime('%Y-%m-%d')\n",
      "c:\\Users\\Admin\\Documents\\Data Science\\mobile-banking-review-analysis\\data-analysis-project\\src\\task_1\\preprocess.py:7: SettingWithCopyWarning: \n",
      "A value is trying to be set on a copy of a slice from a DataFrame.\n",
      "Try using .loc[row_indexer,col_indexer] = value instead\n",
      "\n",
      "See the caveats in the documentation: https://pandas.pydata.org/pandas-docs/stable/user_guide/indexing.html#returning-a-view-versus-a-copy\n",
      "  df['review'] = df['review'].fillna('')\n"
     ]
    }
   ],
   "source": [
    "from task_1.scraper import fetch_reviews\n",
    "from task_1.preprocess import clean_reviews, save_cleaned_reviews\n",
    "\n",
    "\n",
    "# Scrape data\n",
    "cbe = fetch_reviews('com.combanketh.mobilebanking', 'CBE')\n",
    "boa = fetch_reviews('com.boa.boaMobileBanking', 'BOA')\n",
    "dashen = fetch_reviews('com.dashen.dashensuperapp', 'Dashen')\n",
    "\n",
    "# Combine and clean\n",
    "all_reviews = pd.concat([cbe, boa, dashen], ignore_index=True)\n",
    "print(\"Columns:\", all_reviews.columns.tolist())\n",
    "print(all_reviews.head())\n",
    "cleaned = clean_reviews(all_reviews)\n",
    "\n",
    "# Save cleaned data\n",
    "save_cleaned_reviews(cleaned)\n"
   ]
  },
  {
   "cell_type": "code",
   "execution_count": null,
   "id": "9e838b07",
   "metadata": {},
   "outputs": [],
   "source": []
  }
 ],
 "metadata": {
  "kernelspec": {
   "display_name": ".venv",
   "language": "python",
   "name": "python3"
  },
  "language_info": {
   "codemirror_mode": {
    "name": "ipython",
    "version": 3
   },
   "file_extension": ".py",
   "mimetype": "text/x-python",
   "name": "python",
   "nbconvert_exporter": "python",
   "pygments_lexer": "ipython3",
   "version": "3.13.3"
  }
 },
 "nbformat": 4,
 "nbformat_minor": 5
}
