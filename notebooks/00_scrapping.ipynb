{
 "cells": [
  {
   "cell_type": "code",
   "execution_count": 2,
   "id": "8238347f",
   "metadata": {},
   "outputs": [
    {
     "name": "stdout",
     "output_type": "stream",
     "text": [
      "Requirement already satisfied: google-play-scraper in c:\\users\\admin\\documents\\data science\\mobile-banking-review-analysis\\.venv\\lib\\site-packages (1.2.7)\n",
      "Note: you may need to restart the kernel to use updated packages.\n"
     ]
    }
   ],
   "source": [
    "%pip install google-play-scraper"
   ]
  },
  {
   "cell_type": "code",
   "execution_count": 3,
   "id": "1e5d1067",
   "metadata": {},
   "outputs": [],
   "source": [
    "import sys\n",
    "import os\n",
    "import pandas as pd\n",
    "\n",
    "sys.path.append(os.path.abspath(\"../src\"))\n"
   ]
  },
  {
   "cell_type": "code",
   "execution_count": 7,
   "id": "5350acd8",
   "metadata": {},
   "outputs": [],
   "source": [
    "from task_1.scraper import fetch_reviews\n",
    "from task_1.preprocess import clean_reviews, add_review_id, save_cleaned_reviews, save_raw_reviews, save_processed_reviews\n",
    "from task_2.keywords import cluster_themes\n",
    "\n",
    "\n",
    "# Scrape data\n",
    "cbe = fetch_reviews('com.combanketh.mobilebanking', 'CBE')\n",
    "boa = fetch_reviews('com.boa.boaMobileBanking', 'BOA')\n",
    "dashen = fetch_reviews('com.dashen.dashensuperapp', 'Dashen')\n",
    "\n",
    "# Combine and clean\n",
    "df = pd.concat([cbe, boa, dashen], ignore_index=False)\n",
    "df = add_review_id(df)\n",
    "\n",
    "save_raw_reviews(df)\n",
    "\n",
    "df = clean_reviews(df)\n",
    "df = cluster_themes(df, n_clusters=4)\n",
    "\n",
    "save_processed_reviews(df)"
   ]
  },
  {
   "cell_type": "code",
   "execution_count": 8,
   "id": "9e838b07",
   "metadata": {},
   "outputs": [
    {
     "data": {
      "text/html": [
       "<div>\n",
       "<style scoped>\n",
       "    .dataframe tbody tr th:only-of-type {\n",
       "        vertical-align: middle;\n",
       "    }\n",
       "\n",
       "    .dataframe tbody tr th {\n",
       "        vertical-align: top;\n",
       "    }\n",
       "\n",
       "    .dataframe thead th {\n",
       "        text-align: right;\n",
       "    }\n",
       "</style>\n",
       "<table border=\"1\" class=\"dataframe\">\n",
       "  <thead>\n",
       "    <tr style=\"text-align: right;\">\n",
       "      <th></th>\n",
       "      <th>review</th>\n",
       "      <th>rating</th>\n",
       "      <th>date</th>\n",
       "      <th>bank</th>\n",
       "      <th>source</th>\n",
       "      <th>review_id</th>\n",
       "      <th>review_text_clean</th>\n",
       "      <th>identified_theme</th>\n",
       "    </tr>\n",
       "  </thead>\n",
       "  <tbody>\n",
       "    <tr>\n",
       "      <th>923</th>\n",
       "      <td>Wly Super App ilove it</td>\n",
       "      <td>5</td>\n",
       "      <td>2025-01-18</td>\n",
       "      <td>Dashen</td>\n",
       "      <td>Google Play</td>\n",
       "      <td>1195</td>\n",
       "      <td>wly super app ilove</td>\n",
       "      <td>work, bad, nice, good, banking</td>\n",
       "    </tr>\n",
       "    <tr>\n",
       "      <th>924</th>\n",
       "      <td>Dashen yichalal. Ewnetem one step a head</td>\n",
       "      <td>5</td>\n",
       "      <td>2025-01-17</td>\n",
       "      <td>Dashen</td>\n",
       "      <td>Google Play</td>\n",
       "      <td>1197</td>\n",
       "      <td>dashen yichalal ewnetem step head</td>\n",
       "      <td>work, bad, nice, good, banking</td>\n",
       "    </tr>\n",
       "    <tr>\n",
       "      <th>925</th>\n",
       "      <td>It has a Good performance but need more upgrad...</td>\n",
       "      <td>4</td>\n",
       "      <td>2025-01-17</td>\n",
       "      <td>Dashen</td>\n",
       "      <td>Google Play</td>\n",
       "      <td>1198</td>\n",
       "      <td>good performance need upgrade performance like...</td>\n",
       "      <td>work, bad, nice, good, banking</td>\n",
       "    </tr>\n",
       "    <tr>\n",
       "      <th>926</th>\n",
       "      <td>It is a very wonderful work that has saved its...</td>\n",
       "      <td>5</td>\n",
       "      <td>2025-01-17</td>\n",
       "      <td>Dashen</td>\n",
       "      <td>Google Play</td>\n",
       "      <td>1199</td>\n",
       "      <td>wonderful work save time step ahead</td>\n",
       "      <td>work, bad, nice, good, banking</td>\n",
       "    </tr>\n",
       "    <tr>\n",
       "      <th>927</th>\n",
       "      <td>Life-changing! I cant imagine going back to tr...</td>\n",
       "      <td>5</td>\n",
       "      <td>2025-01-17</td>\n",
       "      <td>Dashen</td>\n",
       "      <td>Google Play</td>\n",
       "      <td>1200</td>\n",
       "      <td>life change imagine go traditional banking app...</td>\n",
       "      <td>work, bad, nice, good, banking</td>\n",
       "    </tr>\n",
       "  </tbody>\n",
       "</table>\n",
       "</div>"
      ],
      "text/plain": [
       "                                                review  rating        date  \\\n",
       "923                             Wly Super App ilove it       5  2025-01-18   \n",
       "924           Dashen yichalal. Ewnetem one step a head       5  2025-01-17   \n",
       "925  It has a Good performance but need more upgrad...       4  2025-01-17   \n",
       "926  It is a very wonderful work that has saved its...       5  2025-01-17   \n",
       "927  Life-changing! I cant imagine going back to tr...       5  2025-01-17   \n",
       "\n",
       "       bank       source  review_id  \\\n",
       "923  Dashen  Google Play       1195   \n",
       "924  Dashen  Google Play       1197   \n",
       "925  Dashen  Google Play       1198   \n",
       "926  Dashen  Google Play       1199   \n",
       "927  Dashen  Google Play       1200   \n",
       "\n",
       "                                     review_text_clean  \\\n",
       "923                                wly super app ilove   \n",
       "924                  dashen yichalal ewnetem step head   \n",
       "925  good performance need upgrade performance like...   \n",
       "926                wonderful work save time step ahead   \n",
       "927  life change imagine go traditional banking app...   \n",
       "\n",
       "                   identified_theme  \n",
       "923  work, bad, nice, good, banking  \n",
       "924  work, bad, nice, good, banking  \n",
       "925  work, bad, nice, good, banking  \n",
       "926  work, bad, nice, good, banking  \n",
       "927  work, bad, nice, good, banking  "
      ]
     },
     "execution_count": 8,
     "metadata": {},
     "output_type": "execute_result"
    }
   ],
   "source": [
    "df.tail()"
   ]
  }
 ],
 "metadata": {
  "kernelspec": {
   "display_name": ".venv",
   "language": "python",
   "name": "python3"
  },
  "language_info": {
   "codemirror_mode": {
    "name": "ipython",
    "version": 3
   },
   "file_extension": ".py",
   "mimetype": "text/x-python",
   "name": "python",
   "nbconvert_exporter": "python",
   "pygments_lexer": "ipython3",
   "version": "3.13.3"
  }
 },
 "nbformat": 4,
 "nbformat_minor": 5
}
