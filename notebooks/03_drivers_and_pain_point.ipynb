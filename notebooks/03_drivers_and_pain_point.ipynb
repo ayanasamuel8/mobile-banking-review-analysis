{
 "cells": [
  {
   "cell_type": "code",
   "execution_count": 2,
   "id": "db5b4ab6",
   "metadata": {},
   "outputs": [
    {
     "data": {
      "text/html": [
       "<div>\n",
       "<style scoped>\n",
       "    .dataframe tbody tr th:only-of-type {\n",
       "        vertical-align: middle;\n",
       "    }\n",
       "\n",
       "    .dataframe tbody tr th {\n",
       "        vertical-align: top;\n",
       "    }\n",
       "\n",
       "    .dataframe thead th {\n",
       "        text-align: right;\n",
       "    }\n",
       "</style>\n",
       "<table border=\"1\" class=\"dataframe\">\n",
       "  <thead>\n",
       "    <tr style=\"text-align: right;\">\n",
       "      <th>sentiment_label</th>\n",
       "      <th>negative</th>\n",
       "      <th>neutral</th>\n",
       "      <th>positive</th>\n",
       "      <th>total</th>\n",
       "    </tr>\n",
       "    <tr>\n",
       "      <th>identified_theme</th>\n",
       "      <th></th>\n",
       "      <th></th>\n",
       "      <th></th>\n",
       "      <th></th>\n",
       "    </tr>\n",
       "  </thead>\n",
       "  <tbody>\n",
       "    <tr>\n",
       "      <th>good, work, bad, nice, banking</th>\n",
       "      <td>26</td>\n",
       "      <td>545</td>\n",
       "      <td>204</td>\n",
       "      <td>775</td>\n",
       "    </tr>\n",
       "    <tr>\n",
       "      <th>dashen, super, easy, fast, banking</th>\n",
       "      <td>0</td>\n",
       "      <td>66</td>\n",
       "      <td>14</td>\n",
       "      <td>80</td>\n",
       "    </tr>\n",
       "    <tr>\n",
       "      <th>easy, use, wow, fast, simple</th>\n",
       "      <td>0</td>\n",
       "      <td>42</td>\n",
       "      <td>15</td>\n",
       "      <td>57</td>\n",
       "    </tr>\n",
       "    <tr>\n",
       "      <th>download, want, banking, time, receipt</th>\n",
       "      <td>1</td>\n",
       "      <td>16</td>\n",
       "      <td>0</td>\n",
       "      <td>17</td>\n",
       "    </tr>\n",
       "  </tbody>\n",
       "</table>\n",
       "</div>"
      ],
      "text/plain": [
       "sentiment_label                         negative  neutral  positive  total\n",
       "identified_theme                                                          \n",
       "good, work, bad, nice, banking                26      545       204    775\n",
       "dashen, super, easy, fast, banking             0       66        14     80\n",
       "easy, use, wow, fast, simple                   0       42        15     57\n",
       "download, want, banking, time, receipt         1       16         0     17"
      ]
     },
     "execution_count": 2,
     "metadata": {},
     "output_type": "execute_result"
    }
   ],
   "source": [
    "import pandas as pd\n",
    "\n",
    "df = pd.read_csv(\"../data/Cleaned/reviews_cleaned.csv\")\n",
    "\n",
    "# Count themes by sentiment\n",
    "theme_sentiment = df.groupby(['identified_theme', 'sentiment_label']).size().unstack(fill_value=0)\n",
    "theme_sentiment['total'] = theme_sentiment.sum(axis=1)\n",
    "theme_sentiment = theme_sentiment.sort_values(by='total', ascending=False)\n",
    "theme_sentiment.head()"
   ]
  },
  {
   "cell_type": "code",
   "execution_count": 3,
   "id": "630d6709",
   "metadata": {},
   "outputs": [],
   "source": [
    "theme_sentiment['positive_ratio'] = theme_sentiment['positive'] / theme_sentiment['total']\n",
    "theme_sentiment['negative_ratio'] = theme_sentiment['negative'] / theme_sentiment['total']"
   ]
  },
  {
   "cell_type": "markdown",
   "id": "cc23c5f1",
   "metadata": {},
   "source": [
    "# driver identification"
   ]
  },
  {
   "cell_type": "code",
   "execution_count": 4,
   "id": "8bf65a97",
   "metadata": {},
   "outputs": [
    {
     "name": "stdout",
     "output_type": "stream",
     "text": [
      "Drivers (High Positive Sentiment):\n"
     ]
    },
    {
     "data": {
      "text/html": [
       "<div>\n",
       "<style scoped>\n",
       "    .dataframe tbody tr th:only-of-type {\n",
       "        vertical-align: middle;\n",
       "    }\n",
       "\n",
       "    .dataframe tbody tr th {\n",
       "        vertical-align: top;\n",
       "    }\n",
       "\n",
       "    .dataframe thead th {\n",
       "        text-align: right;\n",
       "    }\n",
       "</style>\n",
       "<table border=\"1\" class=\"dataframe\">\n",
       "  <thead>\n",
       "    <tr style=\"text-align: right;\">\n",
       "      <th>sentiment_label</th>\n",
       "      <th>positive</th>\n",
       "      <th>positive_ratio</th>\n",
       "      <th>total</th>\n",
       "    </tr>\n",
       "    <tr>\n",
       "      <th>identified_theme</th>\n",
       "      <th></th>\n",
       "      <th></th>\n",
       "      <th></th>\n",
       "    </tr>\n",
       "  </thead>\n",
       "  <tbody>\n",
       "    <tr>\n",
       "      <th>good, work, bad, nice, banking</th>\n",
       "      <td>204</td>\n",
       "      <td>0.263226</td>\n",
       "      <td>775</td>\n",
       "    </tr>\n",
       "    <tr>\n",
       "      <th>easy, use, wow, fast, simple</th>\n",
       "      <td>15</td>\n",
       "      <td>0.263158</td>\n",
       "      <td>57</td>\n",
       "    </tr>\n",
       "  </tbody>\n",
       "</table>\n",
       "</div>"
      ],
      "text/plain": [
       "sentiment_label                 positive  positive_ratio  total\n",
       "identified_theme                                               \n",
       "good, work, bad, nice, banking       204        0.263226    775\n",
       "easy, use, wow, fast, simple          15        0.263158     57"
      ]
     },
     "execution_count": 4,
     "metadata": {},
     "output_type": "execute_result"
    }
   ],
   "source": [
    "drivers = theme_sentiment[theme_sentiment['positive_ratio'] > 0.2].sort_values('positive_ratio', ascending=False)\n",
    "print(\"Drivers (High Positive Sentiment):\")\n",
    "drivers[['positive', 'positive_ratio', 'total']].head()"
   ]
  },
  {
   "cell_type": "markdown",
   "id": "05f1ddb2",
   "metadata": {},
   "source": [
    "# Pain point Identification"
   ]
  },
  {
   "cell_type": "code",
   "execution_count": 5,
   "id": "01ec4161",
   "metadata": {},
   "outputs": [
    {
     "name": "stdout",
     "output_type": "stream",
     "text": [
      "\n",
      "Pain Points (High Negative Sentiment):\n"
     ]
    },
    {
     "data": {
      "text/html": [
       "<div>\n",
       "<style scoped>\n",
       "    .dataframe tbody tr th:only-of-type {\n",
       "        vertical-align: middle;\n",
       "    }\n",
       "\n",
       "    .dataframe tbody tr th {\n",
       "        vertical-align: top;\n",
       "    }\n",
       "\n",
       "    .dataframe thead th {\n",
       "        text-align: right;\n",
       "    }\n",
       "</style>\n",
       "<table border=\"1\" class=\"dataframe\">\n",
       "  <thead>\n",
       "    <tr style=\"text-align: right;\">\n",
       "      <th>sentiment_label</th>\n",
       "      <th>negative</th>\n",
       "      <th>negative_ratio</th>\n",
       "      <th>total</th>\n",
       "    </tr>\n",
       "    <tr>\n",
       "      <th>identified_theme</th>\n",
       "      <th></th>\n",
       "      <th></th>\n",
       "      <th></th>\n",
       "    </tr>\n",
       "  </thead>\n",
       "  <tbody>\n",
       "    <tr>\n",
       "      <th>download, want, banking, time, receipt</th>\n",
       "      <td>1</td>\n",
       "      <td>0.058824</td>\n",
       "      <td>17</td>\n",
       "    </tr>\n",
       "    <tr>\n",
       "      <th>good, work, bad, nice, banking</th>\n",
       "      <td>26</td>\n",
       "      <td>0.033548</td>\n",
       "      <td>775</td>\n",
       "    </tr>\n",
       "  </tbody>\n",
       "</table>\n",
       "</div>"
      ],
      "text/plain": [
       "sentiment_label                         negative  negative_ratio  total\n",
       "identified_theme                                                       \n",
       "download, want, banking, time, receipt         1        0.058824     17\n",
       "good, work, bad, nice, banking                26        0.033548    775"
      ]
     },
     "execution_count": 5,
     "metadata": {},
     "output_type": "execute_result"
    }
   ],
   "source": [
    "pain_points = theme_sentiment[theme_sentiment['negative_ratio'] > 0.002].sort_values('negative_ratio', ascending=False)\n",
    "print(\"\\nPain Points (High Negative Sentiment):\")\n",
    "pain_points[['negative', 'negative_ratio', 'total']].head()"
   ]
  },
  {
   "cell_type": "markdown",
   "id": "d49aacb3",
   "metadata": {},
   "source": [
    "# absolute count"
   ]
  },
  {
   "cell_type": "code",
   "execution_count": 6,
   "id": "eaf34d9f",
   "metadata": {},
   "outputs": [
    {
     "name": "stdout",
     "output_type": "stream",
     "text": [
      "\n",
      "Top Themes by Absolute Positive Counts:\n",
      "sentiment_label                         positive  total\n",
      "identified_theme                                       \n",
      "good, work, bad, nice, banking               204    775\n",
      "easy, use, wow, fast, simple                  15     57\n",
      "dashen, super, easy, fast, banking            14     80\n",
      "download, want, banking, time, receipt         0     17\n",
      "\n",
      "Top Themes by Absolute Negative Counts:\n",
      "sentiment_label                         negative  total\n",
      "identified_theme                                       \n",
      "good, work, bad, nice, banking                26    775\n",
      "download, want, banking, time, receipt         1     17\n",
      "dashen, super, easy, fast, banking             0     80\n",
      "easy, use, wow, fast, simple                   0     57\n"
     ]
    }
   ],
   "source": [
    "top_positive = theme_sentiment.sort_values('positive', ascending=False).head()\n",
    "top_negative = theme_sentiment.sort_values('negative', ascending=False).head()\n",
    "\n",
    "print(\"\\nTop Themes by Absolute Positive Counts:\")\n",
    "print(top_positive[['positive', 'total']])\n",
    "\n",
    "print(\"\\nTop Themes by Absolute Negative Counts:\")\n",
    "print(top_negative[['negative', 'total']])"
   ]
  },
  {
   "cell_type": "markdown",
   "id": "3afa0649",
   "metadata": {},
   "source": [
    "## Visualization"
   ]
  },
  {
   "cell_type": "code",
   "execution_count": 7,
   "id": "c576a8de",
   "metadata": {},
   "outputs": [
    {
     "data": {
      "image/png": "[encoded data removed]",
      "text/plain": [
       "<Figure size 1200x500 with 2 Axes>"
      ]
     },
     "metadata": {},
     "output_type": "display_data"
    }
   ],
   "source": [
    "import matplotlib.pyplot as plt\n",
    "\n",
    "# Plot top drivers and pain points\n",
    "fig, (ax1, ax2) = plt.subplots(1, 2, figsize=(12, 5))\n",
    "\n",
    "drivers.head(10)['positive_ratio'].plot(kind='barh', ax=ax1, title='Top Drivers (Positive Sentiment Ratio)')\n",
    "pain_points.head(10)['negative_ratio'].plot(kind='barh', ax=ax2, title='Top Pain Points (Negative Sentiment Ratio)')\n",
    "\n",
    "plt.tight_layout()\n",
    "plt.show()"
   ]
  },
  {
   "cell_type": "markdown",
   "id": "50a7a696",
   "metadata": {},
   "source": [
    "# analysis for CBE"
   ]
  },
  {
   "cell_type": "code",
   "execution_count": null,
   "id": "d6772d84",
   "metadata": {},
   "outputs": [
    {
     "name": "stdout",
     "output_type": "stream",
     "text": [
      "71                         bad load need improve service\n",
      "82                                              hate app\n",
      "97     screenshot reffresh option annoying make trans...\n",
      "171                          bad mobile banking see life\n",
      "Name: review_text_clean, dtype: object\n"
     ]
    }
   ],
   "source": [
    "# Filter for CBE + negative sentiment, and select specific columns\n",
    "cbe_negative_reviews = df[\n",
    "    (df['bank'] == 'CBE') & \n",
    "    (df['sentiment_label'] == 'negative')\n",
    "][['review_text_clean', 'identified_theme']]\n",
    "\n",
    "# Display the filtered results\n",
    "print(cbe_negative_reviews['review_text_clean'])"
   ]
  },
  {
   "cell_type": "code",
   "execution_count": 14,
   "id": "637fc0fc",
   "metadata": {},
   "outputs": [
    {
     "name": "stdout",
     "output_type": "stream",
     "text": [
      "1                              good app\n",
      "2                     amazing app enjoy\n",
      "3                                  well\n",
      "5      great app like carry bank pocket\n",
      "7                   happy app siple use\n",
      "                     ...               \n",
      "293                           great app\n",
      "295                          great work\n",
      "297         excellent match application\n",
      "298                            good app\n",
      "299                       excellent app\n",
      "Name: review_text_clean, Length: 103, dtype: object\n"
     ]
    }
   ],
   "source": [
    "# Filter for CBE + negative sentiment, and select specific columns\n",
    "cbe_negative_reviews = df[\n",
    "    (df['bank'] == 'CBE') & \n",
    "    (df['sentiment_label'] == 'positive')\n",
    "][['review_text_clean', 'identified_theme']]\n",
    "\n",
    "# Display the filtered results\n",
    "print(cbe_negative_reviews['review_text_clean'])"
   ]
  },
  {
   "cell_type": "markdown",
   "id": "95c9c728",
   "metadata": {},
   "source": [
    "# analysis for BOA"
   ]
  },
  {
   "cell_type": "code",
   "execution_count": null,
   "id": "8c7af2d9",
   "metadata": {},
   "outputs": [
    {
     "name": "stdout",
     "output_type": "stream",
     "text": [
      "311                                     guy keep get bad\n",
      "323    keep show pop turn developer option tho turn w...\n",
      "343                       bad app bank u ashamed scammer\n",
      "366                                     poor proformance\n",
      "380                                      update annoying\n",
      "388         horrible customer service app crash horrible\n",
      "411                                                  bad\n",
      "420                                 bad banking app work\n",
      "456                                     bad app see like\n",
      "462                                     bad app vety bad\n",
      "479                                                  bad\n",
      "513    download screenshot payment receipt kinda bad app\n",
      "527                                       bad experience\n",
      "531    sick tiere enable disable developer option eve...\n",
      "532                                              bad app\n",
      "542                                             horrible\n",
      "548                                              bad app\n",
      "559                                              bad app\n",
      "574                                    disappointing app\n",
      "576                                              bad app\n",
      "587    difficult use user app one dawenload user oper...\n",
      "Name: review_text_clean, dtype: object\n"
     ]
    }
   ],
   "source": [
    "# Filter for BOA + negative sentiment, and select specific columns\n",
    "boa_negative_reviews = df[\n",
    "    (df['bank'] == 'BOA') & \n",
    "    (df['sentiment_label'] == 'negative')\n",
    "][['review_text_clean', 'identified_theme']]\n",
    "\n",
    "# Display the filtered results\n",
    "print(boa_negative_reviews['review_text_clean'])"
   ]
  },
  {
   "cell_type": "code",
   "execution_count": 21,
   "id": "fc9c6e18",
   "metadata": {},
   "outputs": [
    {
     "name": "stdout",
     "output_type": "stream",
     "text": [
      "303                                          exceptional\n",
      "304                                 boa mobile good bank\n",
      "309                                         good service\n",
      "318                                like application good\n",
      "320                                                 good\n",
      "325                                            great boa\n",
      "338                                     good application\n",
      "344                                            great boa\n",
      "348                                            wonderful\n",
      "350                                                 love\n",
      "353                                         improve good\n",
      "365                                    good feature work\n",
      "368                                 verry amazing app ib\n",
      "371                              good banking app wworld\n",
      "372                                    nice app easy use\n",
      "376                                            good bank\n",
      "377    easy convienient use perfect high prefrence ch...\n",
      "378                                          app amazing\n",
      "393                                              perfect\n",
      "394                                            good good\n",
      "396                                                great\n",
      "398                                     good app helpful\n",
      "409                                                 nice\n",
      "419                                                 good\n",
      "422                                                 nice\n",
      "445                                                 good\n",
      "449                                                 good\n",
      "459                                        great service\n",
      "475                                             good app\n",
      "476                                             good app\n",
      "491                                             easy use\n",
      "494                            great ui seamless ux love\n",
      "495    good application try add alternative future po...\n",
      "498                                              amazing\n",
      "499                              great app great service\n",
      "503                                     good application\n",
      "508             aimohon joel good well conversation time\n",
      "535                                        excellent app\n",
      "544                                              awesome\n",
      "550                                            nice appp\n",
      "568                       work need improve good anymore\n",
      "579                                         good quality\n",
      "585                                  fix apollo guy good\n",
      "Name: review_text_clean, dtype: object\n"
     ]
    }
   ],
   "source": [
    "# Filter for BOA + negative sentiment, and select specific columns\n",
    "boa_negative_reviews = df[\n",
    "    (df['bank'] == 'BOA') & \n",
    "    (df['sentiment_label'] == 'positive')\n",
    "][['review_text_clean', 'identified_theme']]\n",
    "\n",
    "# Display the filtered results\n",
    "print(boa_negative_reviews['review_text_clean'])"
   ]
  },
  {
   "cell_type": "markdown",
   "id": "3faac97d",
   "metadata": {},
   "source": [
    "# analysis for Dashen"
   ]
  },
  {
   "cell_type": "code",
   "execution_count": null,
   "id": "c4de93d6",
   "metadata": {},
   "outputs": [
    {
     "name": "stdout",
     "output_type": "stream",
     "text": [
      "657        bad\n",
      "853    bad app\n",
      "Name: review_text_clean, dtype: object\n"
     ]
    }
   ],
   "source": [
    "# Filter for Dashen + negative sentiment, and select specific columns\n",
    "dashen_negative_reviews = df[\n",
    "    (df['bank'] == 'Dashen') & \n",
    "    (df['sentiment_label'] == 'negative')\n",
    "][['review_text_clean', 'identified_theme']]\n",
    "\n",
    "# Display the filtered results\n",
    "print(dashen_negative_reviews['review_text_clean'])"
   ]
  },
  {
   "cell_type": "code",
   "execution_count": 24,
   "id": "d1452eee",
   "metadata": {},
   "outputs": [
    {
     "name": "stdout",
     "output_type": "stream",
     "text": [
      "604                                         app good guy\n",
      "610                                             good app\n",
      "616                                     nice application\n",
      "622                  good time say duplicate transaction\n",
      "623                                                 nice\n",
      "                             ...                        \n",
      "904                                            good need\n",
      "906                        amazing app thank dashen bank\n",
      "908                      excellent ui ux banking service\n",
      "914    fast reliable user friendly amazing chatting f...\n",
      "915                                               v good\n",
      "Name: review_text_clean, Length: 87, dtype: object\n"
     ]
    }
   ],
   "source": [
    "# Filter for Dashen + negative sentiment, and select specific columns\n",
    "dashen_negative_reviews = df[\n",
    "    (df['bank'] == 'Dashen') & \n",
    "    (df['sentiment_label'] == 'positive')\n",
    "][['review_text_clean', 'identified_theme']]\n",
    "\n",
    "# Display the filtered results\n",
    "print(dashen_negative_reviews['review_text_clean'])"
   ]
  }
 ],
 "metadata": {
  "kernelspec": {
   "display_name": ".venv",
   "language": "python",
   "name": "python3"
  },
  "language_info": {
   "codemirror_mode": {
    "name": "ipython",
    "version": 3
   },
   "file_extension": ".py",
   "mimetype": "text/x-python",
   "name": "python",
   "nbconvert_exporter": "python",
   "pygments_lexer": "ipython3",
   "version": "3.13.3"
  }
 },
 "nbformat": 4,
 "nbformat_minor": 5
}
